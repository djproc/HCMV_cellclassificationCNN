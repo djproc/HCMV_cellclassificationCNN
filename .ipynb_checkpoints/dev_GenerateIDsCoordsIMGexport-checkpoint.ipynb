{
 "cells": [
  {
   "cell_type": "code",
   "execution_count": null,
   "metadata": {},
   "outputs": [],
   "source": [
    "# Note: although not typical when witing python code, to make it clear to the user, we will import packages and functions as they are needed"
   ]
  },
  {
   "cell_type": "markdown",
   "metadata": {},
   "source": [
    "---"
   ]
  },
  {
   "cell_type": "markdown",
   "metadata": {},
   "source": [
    "### STEP 1 ### \n",
    "Run the cell below, this will create a folder called \"_CSVfromCellProfiler\" for you to place the .csv files from cellprofiler into"
   ]
  },
  {
   "cell_type": "code",
   "execution_count": 1,
   "metadata": {},
   "outputs": [
    {
     "name": "stdout",
     "output_type": "stream",
     "text": [
      "CREATED FOLDER NAMED: _CSVfromCellProfiler \n",
      "FOLDER LOCATED AT: /home/djproc/Github/HCMV_cellclassificationCNN\n"
     ]
    }
   ],
   "source": [
    "import os\n",
    "cp_output_dir = \"_CSVfromCellProfiler\"\n",
    "os.makedirs(cp_output_dir, exist_ok=True)\n",
    "print(f'CREATED FOLDER NAMED: {cp_output_dir} \\nFOLDER LOCATED AT: {os.getcwd()}')\n",
    "# TODO : Create a link or a button to this folder \n",
    "#print(f'<a href=\"r{os.getcwd()}\">CLICK HERE TO OPEN FOLDER</a>')\n",
    "# TODO: See if we can get cellprofiler to run from the command line and spit out these files into this folder directly"
   ]
  },
  {
   "cell_type": "markdown",
   "metadata": {},
   "source": [
    "---"
   ]
  },
  {
   "cell_type": "markdown",
   "metadata": {},
   "source": [
    "### STEP 2 ### \n",
    "Place the csv files into this folder and then run the code below. This code will merge the csv files into a single dataframe called df_combined_data."
   ]
  },
  {
   "cell_type": "code",
   "execution_count": 2,
   "metadata": {},
   "outputs": [
    {
     "name": "stdout",
     "output_type": "stream",
     "text": [
      "EXPERIMENT NAME: 117_20190601_H3K9me3quant_repG_v1\n",
      "\n",
      "IMPORTED AND MERGED THE FOLLOWING FILES:\n",
      " - 117_20190601_H3K9me3quant_repG_v1_NUC_DAPI.csv\n",
      " - 117_20190601_H3K9me3quant_repG_v1_Cytoplasm.csv\n",
      " - 117_20190601_H3K9me3quant_repG_v1_Image.csv\n",
      "\n",
      "DETECTED NUCLEI: 7,529\n"
     ]
    }
   ],
   "source": [
    "# import functions from the HCMVcellclassification.py file in this folder and run the function ImportData_NUC_CYTO\n",
    "import HCMVcellclassification as HCMVcc\n",
    "df_combined_data, df_image_url, exp_name = HCMVcc.ImportData_NUC_CYTO(cp_output_dir)"
   ]
  },
  {
   "cell_type": "code",
   "execution_count": null,
   "metadata": {},
   "outputs": [],
   "source": [
    "# TODO: I think this number above is incorrect, we still have to remove na values from it"
   ]
  },
  {
   "cell_type": "markdown",
   "metadata": {},
   "source": [
    "---"
   ]
  },
  {
   "cell_type": "markdown",
   "metadata": {},
   "source": [
    "### STEP 3 ###\n",
    "Check that your data looks good by plotting this merged data"
   ]
  },
  {
   "cell_type": "code",
   "execution_count": null,
   "metadata": {},
   "outputs": [],
   "source": [
    "#import plotting functions\n",
    "import matplotlib.pyplot as plt\n",
    "import seaborn as sns"
   ]
  },
  {
   "cell_type": "code",
   "execution_count": null,
   "metadata": {},
   "outputs": [],
   "source": [
    "# TODO: Show the user the metadata column options\n",
    "df_combined_data.columns.values"
   ]
  },
  {
   "cell_type": "code",
   "execution_count": null,
   "metadata": {},
   "outputs": [],
   "source": [
    "# e.g. Check that nuclei are of a consistent size (using \"AreaShape_Area\") \n",
    "display_col = \"AreaShape_Area\"\n",
    "dispaly_data = \"Metadata_timepoint_NUC\"\n",
    "sns.violinplot(x=dispaly_data, y=display_col, data=df_combined_data.reset_index(), size=1);    \n",
    "plt.show()"
   ]
  },
  {
   "cell_type": "code",
   "execution_count": null,
   "metadata": {},
   "outputs": [],
   "source": [
    "#then we can plot gB intensity vs area to see that there are larger infected nuclei that have gB staining in the surrounding cytoplasm\n",
    "display_x_axis = 'Intensity_MeanIntensity_gB_small'\n",
    "display_y_axis = 'AreaShape_Area'\n",
    "sns.scatterplot(x=display_x_axis, y=display_y_axis, data=df_combined_data.reset_index(), hue='Metadata_timepoint_NUC', size=0.0001, alpha=0.1)\n",
    "plt.legend(bbox_to_anchor=(1.05, 1), loc=2, borderaxespad=0.)\n",
    "#plt.xlim(0,0.1)\n",
    "#plt.ylim(0.02,0.08)"
   ]
  },
  {
   "cell_type": "markdown",
   "metadata": {},
   "source": [
    "---"
   ]
  },
  {
   "cell_type": "markdown",
   "metadata": {},
   "source": [
    "### STEP 4 ###\n",
    "We need to create unique IDs for each nucleus in the dataset and retrieve their cooridnates (this will allow us to to export images to be used by the CNN in STEP 5)"
   ]
  },
  {
   "cell_type": "code",
   "execution_count": 3,
   "metadata": {},
   "outputs": [
    {
     "name": "stdout",
     "output_type": "stream",
     "text": [
      "EXAMPLE IDS: 117_20190627_repG_96_2_2\n"
     ]
    }
   ],
   "source": [
    "# We need to specify which piecies of metadata to construct the uniqueIDs\n",
    "# The defaults is exp_number, exp_date, bio_rep (biological replicate), image_number, object_number (the nucleus number in the image) \n",
    "# e,g. \"117_20190707_repA_96hpi_1_1\"\n",
    "# TODO IN FUCNTION: if this is a string and not a number, then make it an float then int then string.\n",
    "Metadata_for_ID = 'Metadata_timepoint_NUC'\n",
    "df_combined_data = HCMVcc.GenerateIDsandCoords(df_combined_data, Metadata_for_ID)\n",
    "\n",
    "#TODO: make this an option in the function, if true, set to bio_rep = repA\n",
    "# If you have not specified biological replicates in CellProfiler, set it here by unhashing the below and running this instead, it will create a repA\n",
    "#HCMVcc.GenerateIDsandCoords_repA(Metadata_for_ID)"
   ]
  },
  {
   "cell_type": "markdown",
   "metadata": {},
   "source": [
    "---"
   ]
  },
  {
   "cell_type": "markdown",
   "metadata": {},
   "source": [
    "### STEP 4 ###\n",
    "Export images of each nucleus into a folder for use by the CNN"
   ]
  },
  {
   "cell_type": "code",
   "execution_count": 4,
   "metadata": {},
   "outputs": [
    {
     "name": "stdout",
     "output_type": "stream",
     "text": [
      "Channel 1 (Red) = URL_gB \n",
      "Channel 2 (Green) = URL_DAPI \n",
      "Channel 3 (Blue) = URL_H3K9me3\n"
     ]
    }
   ],
   "source": [
    "# Display what the Image channels are named from cellprofiler \n",
    "# we want to make sure that C1 is the nucleus marker \n",
    "var_C1 = df_image_url.columns.values[2] # will be displayed as red\n",
    "var_C2 = df_image_url.columns.values[0] # will be displayed as green\n",
    "var_C3 = df_image_url.columns.values[1] # will be dispalyed as blue\n",
    "\n",
    "print(f'Channel 1 (Red) = {var_C1} \\nChannel 2 (Green) = {var_C2} \\nChannel 3 (Blue) = {var_C3}')"
   ]
  },
  {
   "cell_type": "code",
   "execution_count": 5,
   "metadata": {},
   "outputs": [
    {
     "name": "stdout",
     "output_type": "stream",
     "text": [
      "Exported Nucleus IDs and Coordinates into a csv named: 117_20190601_H3K9me3quant_repG_v1_IDsandCoords.csv\n"
     ]
    }
   ],
   "source": [
    "df_combined_data = HCMVcc.IDsandCoords_IMGexport(df_combined_data,var_C1,var_C2,var_C3,exp_name)"
   ]
  },
  {
   "cell_type": "code",
   "execution_count": 1,
   "metadata": {},
   "outputs": [
    {
     "name": "stdout",
     "output_type": "stream",
     "text": [
      "Added 387 JARs to the Java classpath.\n"
     ]
    },
    {
     "data": {
      "text/plain": [
       "'2.0.0-rc-69/1.52p'"
      ]
     },
     "execution_count": 1,
     "metadata": {},
     "output_type": "execute_result"
    }
   ],
   "source": [
    "#now lets use pyimagej\n",
    "import imagej\n",
    "ij = imagej.init('/home/djproc/Fiji.app')\n",
    "ij.getVersion()"
   ]
  },
  {
   "cell_type": "code",
   "execution_count": 6,
   "metadata": {},
   "outputs": [
    {
     "name": "stdout",
     "output_type": "stream",
     "text": [
      "Hello Chuckles. You are 13 years old, and live in Nowhere.\n"
     ]
    }
   ],
   "source": [
    "args = {\n",
    "    'name': 'Chuckles',\n",
    "    'age': 13,\n",
    "    'city': 'Nowhere'\n",
    "        }\n",
    "macro = \"\"\"\n",
    "#@ String name\n",
    "#@ int age\n",
    "#@ String city\n",
    "#@output Object greeting\n",
    "greeting = \"Hello \" + name + \". You are \" + age + \" years old, and live in \" + city + \".\"\n",
    "\"\"\"\n",
    "result = ij.py.run_macro(macro, args)\n",
    "print(result.getOutput('greeting'))"
   ]
  },
  {
   "cell_type": "code",
   "execution_count": null,
   "metadata": {},
   "outputs": [],
   "source": [
    "args = {\n",
    "    filename : f'{exp_name}_IDsandCoords.csv'\n",
    "    IMG_export_dir : f'_IMGexportforCNN_{exp_name}'\n",
    "    }\n",
    "\n",
    "macro = \"\"\"\n",
    "setBatchMode(true);\n",
    "allText = File.openAsString(fileName);\n",
    "tmp = split(fileName,\".\");\n",
    "posix = tmp[lengthOf(tmp)-1];\n",
    "text = split(allText, \"\\n\");\n",
    "IMG_export_dir = getDirectory(\"Select a location to save the files\"); \n",
    "run(\"Clear Results\");\n",
    "\n",
    "var x1points = newArray;\n",
    "var y1points = newArray;\n",
    "var x2points = newArray;\n",
    "var y2points = newArray;\n",
    "\n",
    "var nuc_Ori = newArray;\n",
    "var Xmidpoints= newArray;\t\n",
    "var Ymidpoints = newArray;\t\t\t\n",
    "\n",
    "var C1url = newArray;\n",
    "var C2url = newArray;\n",
    "var ImageID = newArray; \n",
    "\n",
    "hdr = split(text[0]);\n",
    "iImageObjectID = 0;\n",
    "iXmid = 1;\n",
    "iYmid = 2;\n",
    "iC1url = 3;\n",
    "iC2url = 4;\n",
    "\n",
    "for (i = 1; i < (text.length); i++)\n",
    "{\n",
    "   line = split(text[i],\",\");\n",
    "   setOption(\"ExpandableArrays\", true);\n",
    "   \n",
    "   Xmidpoints[i-1] = parseInt(line[iXmid]);\n",
    "   Ymidpoints[i-1] = parseInt(line[iYmid]);\n",
    "\n",
    "   C1url[i-1] = line[iC1url];\n",
    "   C2url[i-1] = line[iC2url];\n",
    "   ImageID[i-1] = line[iImageObjectID]; \n",
    "\n",
    "   open(C1url[i-1]);\n",
    "   rename(\"C1\");\n",
    "\n",
    "   open(C2url[i-1]);\n",
    "   rename(\"C2\");\n",
    "\n",
    "   run(\"Merge Channels...\", \"c1=C1 c2=C2 create\");\n",
    "   run(\"Canvas Size...\", \"width=3248 height=3248 position=Center zero\");\n",
    "   makeRectangle(Xmidpoints[i-1]+300,Ymidpoints[i-1]+300,600,600);\n",
    "   run(\"Duplicate...\", \"duplicate\");\t   \t\t\t   \n",
    "   saveAs(\"Jpeg\", IMG_export_dir + ImageID[i-1]+\"_RGB.jpg\");\n",
    "   close(\"*\");\n",
    "}\n",
    "\"\"\"\n",
    "result = ij.py.run_macro(macro, args)"
   ]
  }
 ],
 "metadata": {
  "kernelspec": {
   "display_name": "Python 3",
   "language": "python",
   "name": "python3"
  },
  "language_info": {
   "codemirror_mode": {
    "name": "ipython",
    "version": 3
   },
   "file_extension": ".py",
   "mimetype": "text/x-python",
   "name": "python",
   "nbconvert_exporter": "python",
   "pygments_lexer": "ipython3",
   "version": "3.7.3"
  }
 },
 "nbformat": 4,
 "nbformat_minor": 4
}
