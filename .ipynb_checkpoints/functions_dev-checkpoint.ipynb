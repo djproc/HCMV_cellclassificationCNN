{
 "cells": [
  {
   "cell_type": "markdown",
   "metadata": {},
   "source": [
    "### Import data from CellProfiler"
   ]
  },
  {
   "cell_type": "code",
   "execution_count": 52,
   "metadata": {},
   "outputs": [],
   "source": [
    "# Run this cell to create a folder\n",
    "import os\n",
    "cp_output_dir = \"_cellprofiler_output_csv\"\n",
    "os.makedirs(cp_output_dir, exist_ok=True)"
   ]
  },
  {
   "cell_type": "code",
   "execution_count": 66,
   "metadata": {},
   "outputs": [
    {
     "name": "stdout",
     "output_type": "stream",
     "text": [
      "EXPERIMENT NAME: 117_20190601_H3K9me3quant_repG_v1\n",
      "\n",
      "IMPORTED AND MERGED THE FOLLOWING FILES:\n",
      " - 117_20190601_H3K9me3quant_repG_v1_NUC_DAPI.csv\n",
      " - 117_20190601_H3K9me3quant_repG_v1_Cytoplasm.csv\n",
      " - 117_20190601_H3K9me3quant_repG_v1_Image.csv\n",
      "\n",
      "DETECTED NUCLEI: 7,529\n"
     ]
    }
   ],
   "source": [
    "#TODO: Turn this into a function called import_NUCandCYTO\n",
    "\n",
    "#use glob to pull the common filename from the csv files, call this the experiment name \n",
    "import glob\n",
    "exp_name = os.path.basename(glob.glob(cp_output_dir + '/*_Image.csv',recursive=True)[0])[:-10]\n",
    "print(f'EXPERIMENT NAME: {exp_name}')\n",
    "\n",
    "#create a folder to export data from the CNN\n",
    "cnn_export_folder = f\"{exp_name}_CNNexport\"\n",
    "os.makedirs(cnn_export_folder, exist_ok=True)\n",
    "\n",
    "#generate the other cellprofiler output filenames\n",
    "nuc_csv =  f\"{exp_name}_NUC_DAPI.csv\"\n",
    "cyto_csv = f\"{exp_name}_Cytoplasm.csv\"\n",
    "image_csv = f\"{exp_name}_Image.csv\"\n",
    "print(\"\\nIMPORTED AND MERGED THE FOLLOWING FILES:\", nuc_csv, cyto_csv, image_csv, sep=\"\\n - \")\n",
    "\n",
    "#import these files as datafames using pandas\n",
    "import pandas as pd\n",
    "#nucleus data\n",
    "df_nuc = pd.read_csv(os.path.join(cp_output_dir, nuc_csv), na_filter=True)\n",
    "df_nuc.set_index(\"ImageNumber\", inplace=True)\n",
    "#cytoplasm data\n",
    "df_cyto = pd.read_csv(os.path.join(cp_output_dir, cyto_csv), na_filter=True)\n",
    "df_cyto.set_index(\"ImageNumber\", inplace=True)\n",
    "#image info\n",
    "df_image = pd.read_csv(os.path.join(cp_output_dir, image_csv), na_filter=True)\n",
    "df_image.set_index(\"ImageNumber\", inplace=True)\n",
    "#then extract only the image urls from this \n",
    "df_image_url = df_image.filter(regex=r'^URL_', axis=1) #this will select any columns starting with \"URL_\"\n",
    "\n",
    "#combine these dataframes together\n",
    "#merge nucleus data with urls\n",
    "df_combined_data = df_nuc.merge(df_image_url, left_on='ImageNumber', right_on='ImageNumber', how='outer')\n",
    "#merge this with cytoplasm data and differentiate columns from the two datasets as \"_NUC\" and \"_CYTO\"\n",
    "df_combined_data = df_combined_data.merge(df_cyto, left_on=[\"ImageNumber\", \"ObjectNumber\"], right_on=[\"ImageNumber\", \"Parent_NUC_DAPI\"], how=\"outer\", suffixes=('_NUC', '_CYTO'))\n",
    "\n",
    "#we can also just look at the raw number of rows in the dataframe to see how many nuclei we've identified\n",
    "print(f'\\nDETECTED NUCLEI: {df_combined_data.shape[0]:,.0f}')\n"
   ]
  },
  {
   "cell_type": "code",
   "execution_count": 62,
   "metadata": {},
   "outputs": [
    {
     "data": {
      "application/vnd.jupyter.widget-view+json": {
       "model_id": "bc0965765e1240378e37c6acb13aae2c",
       "version_major": 2,
       "version_minor": 0
      },
      "text/plain": [
       "Dropdown(description='Options:', options=('ObjectNumber_NUC', 'Metadata_FileLocation_NUC', 'Metadata_Frame_NUC…"
      ]
     },
     "metadata": {},
     "output_type": "display_data"
    }
   ],
   "source": [
    "#TODO: Make this work in jupyter lab https://stackoverflow.com/questions/49542417/how-to-get-ipywidgets-working-in-jupyter-lab\n",
    "import ipywidgets as widgets\n",
    "widgets.Dropdown(\n",
    "    options=df_combined_data.columns.values,\n",
    "    description='Options:',\n",
    "    disabled=False,\n",
    ")\n",
    "# if the widget doesn't work, we can just list the column names this way:\n",
    "#df_combined_data.columns.values\n",
    "\n",
    "#TODO: Select the column that you want to separate your data by:\n",
    "# e.g. \"Metadata_timepoint_NUC\n",
    "# then graph some summary information"
   ]
  },
  {
   "cell_type": "code",
   "execution_count": 67,
   "metadata": {},
   "outputs": [],
   "source": [
    "#TODO: create generate IDs and perform calculations for"
   ]
  },
  {
   "cell_type": "code",
   "execution_count": 70,
   "metadata": {},
   "outputs": [],
   "source": [
    "#TODO: THEN RUNT HE IMAGEJ MACRO FROM THIS NOTEBOOK:\n",
    "# https://nbviewer.jupyter.org/github/imagej/tutorials/blob/master/notebooks/ImageJ-Tutorials-and-Demo.ipynb"
   ]
  },
  {
   "cell_type": "code",
   "execution_count": null,
   "metadata": {},
   "outputs": [],
   "source": []
  }
 ],
 "metadata": {
  "kernelspec": {
   "display_name": "Python 3",
   "language": "python",
   "name": "python3"
  },
  "language_info": {
   "codemirror_mode": {
    "name": "ipython",
    "version": 3
   },
   "file_extension": ".py",
   "mimetype": "text/x-python",
   "name": "python",
   "nbconvert_exporter": "python",
   "pygments_lexer": "ipython3",
   "version": "3.7.4"
  }
 },
 "nbformat": 4,
 "nbformat_minor": 4
}
