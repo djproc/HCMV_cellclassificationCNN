{
 "cells": [
  {
   "cell_type": "code",
   "execution_count": 1,
   "metadata": {},
   "outputs": [
    {
     "name": "stdout",
     "output_type": "stream",
     "text": [
      "Added 387 JARs to the Java classpath.\n"
     ]
    },
    {
     "data": {
      "text/plain": [
       "'2.0.0-rc-69/1.52p'"
      ]
     },
     "execution_count": 1,
     "metadata": {},
     "output_type": "execute_result"
    }
   ],
   "source": [
    "import imagej\n",
    "ij = imagej.init('/home/djproc/Fiji.app')\n",
    "ij.getVersion()"
   ]
  },
  {
   "cell_type": "code",
   "execution_count": 2,
   "metadata": {},
   "outputs": [
    {
     "name": "stdout",
     "output_type": "stream",
     "text": [
      "Hello Chuckles. You are 13 years old, and live in Nowhere.\n"
     ]
    }
   ],
   "source": [
    "args = {\n",
    "    'name': 'Chuckles',\n",
    "    'age': 13,\n",
    "    'city': 'Nowhere'\n",
    "}\n",
    "\n",
    "result = ij.py.run_macro(macro_test.ijm, args)\n",
    "print(result.getOutput('greeting'))"
   ]
  },
  {
   "cell_type": "code",
   "execution_count": null,
   "metadata": {},
   "outputs": [],
   "source": []
  }
 ],
 "metadata": {
  "kernelspec": {
   "display_name": "Python 3",
   "language": "python",
   "name": "python3"
  },
  "language_info": {
   "codemirror_mode": {
    "name": "ipython",
    "version": 3
   },
   "file_extension": ".py",
   "mimetype": "text/x-python",
   "name": "python",
   "nbconvert_exporter": "python",
   "pygments_lexer": "ipython3",
   "version": "3.7.3"
  }
 },
 "nbformat": 4,
 "nbformat_minor": 4
}
